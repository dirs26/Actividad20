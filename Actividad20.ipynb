{
 "cells": [
  {
   "cell_type": "code",
   "execution_count": 20,
   "id": "b048bb9e",
   "metadata": {},
   "outputs": [
    {
     "name": "stdout",
     "output_type": "stream",
     "text": [
      "    productID                      productName  supplierID  categoryID  \\\n",
      "0           1                             Chai           1           1   \n",
      "1           2                            Chang           1           1   \n",
      "2           3                    Aniseed Syrup           1           2   \n",
      "3           4     Chef Anton's Cajun Seasoning           2           2   \n",
      "4           5           Chef Anton's Gumbo Mix           2           2   \n",
      "..        ...                              ...         ...         ...   \n",
      "72         73                       Röd Kaviar          17           8   \n",
      "73         74                    Longlife Tofu           4           7   \n",
      "74         75             Rhönbräu Klosterbier          12           1   \n",
      "75         76                     Lakkalikööri          23           1   \n",
      "76         77  Original Frankfurter grüne Soße          12           2   \n",
      "\n",
      "        quantityPerUnit  unitPrice  unitsInStock  unitsOnOrder  reorderLevel  \\\n",
      "0    10 boxes x 20 bags      18.00            39             0            10   \n",
      "1    24 - 12 oz bottles      19.00            17            40            25   \n",
      "2   12 - 550 ml bottles      10.00            13            70            25   \n",
      "3        48 - 6 oz jars      22.00            53             0             0   \n",
      "4              36 boxes      21.35             0             0             0   \n",
      "..                  ...        ...           ...           ...           ...   \n",
      "72      24 - 150 g jars      15.00           101             0             5   \n",
      "73            5 kg pkg.      10.00             4            20             5   \n",
      "74   24 - 0.5 l bottles       7.75           125             0            25   \n",
      "75               500 ml      18.00            57             0            20   \n",
      "76             12 boxes      13.00            32             0            15   \n",
      "\n",
      "    discontinued  \n",
      "0              0  \n",
      "1              0  \n",
      "2              0  \n",
      "3              0  \n",
      "4              1  \n",
      "..           ...  \n",
      "72             0  \n",
      "73             0  \n",
      "74             0  \n",
      "75             0  \n",
      "76             0  \n",
      "\n",
      "[77 rows x 10 columns]\n",
      "                        productName  unitPrice\n",
      "0                              Chai      18.00\n",
      "1                             Chang      19.00\n",
      "2                     Aniseed Syrup      10.00\n",
      "3      Chef Anton's Cajun Seasoning      22.00\n",
      "4            Chef Anton's Gumbo Mix      21.35\n",
      "..                              ...        ...\n",
      "72                       Röd Kaviar      15.00\n",
      "73                    Longlife Tofu      10.00\n",
      "74             Rhönbräu Klosterbier       7.75\n",
      "75                     Lakkalikööri      18.00\n",
      "76  Original Frankfurter grüne Soße      13.00\n",
      "\n",
      "[77 rows x 2 columns]\n"
     ]
    },
    {
     "data": {
      "image/png": "[encoded data removed]",
      "text/plain": [
       "<Figure size 640x480 with 1 Axes>"
      ]
     },
     "metadata": {},
     "output_type": "display_data"
    }
   ],
   "source": [
    "import pandas as pd\n",
    "import matplotlib as plt\n",
    "\n",
    "def productoCategoria():\n",
    "    datos=pd.read_csv('products.csv')\n",
    "    #print(datos)\n",
    "    df= datos[['unitsInStock','categoryID']]\n",
    "    #print(df)\n",
    "    df.head(25).plot.barh(x=\"unitsInStock\",y=\"categoryID\")\n",
    "#productoCategoria()\n",
    "\n",
    "def precioMedio():\n",
    "    datos=pd.read_csv('products.csv')\n",
    "    print(datos)\n",
    "    df= datos[['categoryID','unitPrice']]\n",
    "    print(df)\n",
    "    df.unitPrice.head(12).value_counts().plot.pie()\n",
    "#precioMedio()\n",
    "\n",
    "def histoGrama():\n",
    "    datos=pd.read_csv('products.csv')\n",
    "    print(datos)\n",
    "    df= datos[['productName','unitPrice']]\n",
    "    print(df)\n",
    "    df.unitPrice.plot.hist()\n",
    "histoGrama()\n",
    "\n",
    "    "
   ]
  },
  {
   "cell_type": "code",
   "execution_count": null,
   "id": "df3b5b3b",
   "metadata": {},
   "outputs": [],
   "source": []
  },
  {
   "cell_type": "code",
   "execution_count": null,
   "id": "2b8d5fc3",
   "metadata": {},
   "outputs": [],
   "source": []
  }
 ],
 "metadata": {
  "kernelspec": {
   "display_name": "Python 3 (ipykernel)",
   "language": "python",
   "name": "python3"
  },
  "language_info": {
   "codemirror_mode": {
    "name": "ipython",
    "version": 3
   },
   "file_extension": ".py",
   "mimetype": "text/x-python",
   "name": "python",
   "nbconvert_exporter": "python",
   "pygments_lexer": "ipython3",
   "version": "3.9.13"
  }
 },
 "nbformat": 4,
 "nbformat_minor": 5
}
